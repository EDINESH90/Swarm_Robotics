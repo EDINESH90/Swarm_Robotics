{
 "cells": [
  {
   "cell_type": "code",
   "execution_count": 9,
   "metadata": {},
   "outputs": [
    {
     "data": {
      "text/plain": [
       "(array([[ 0,  1,  0,  2,  3],\n",
       "        [ 1,  0,  0,  3,  2],\n",
       "        [ 3, -1,  0,  2,  3],\n",
       "        [ 1, -1,  3,  0,  4],\n",
       "        [-2,  1, -2, -2,  3]]), array([[ 0,  2,  3,  3,  1],\n",
       "        [ 2,  0, -1,  2,  3],\n",
       "        [ 3, -1,  0,  5,  1],\n",
       "        [ 3,  2,  5,  0,  2],\n",
       "        [ 1,  3,  1,  2,  6]]))"
      ]
     },
     "execution_count": 9,
     "metadata": {},
     "output_type": "execute_result"
    }
   ],
   "source": [
    "import numpy as np\n",
    "from numpy import linalg as LA\n",
    "A1=np.array([[0, 1, 0, 2, 3],[1, 0, 0, 3, 2],[3, -1, 0, 2, 3],[1, -1, 3, 0, 4],[-2, 1, -2, -2, 3]])\n",
    "A2=np.array([[0, 2, 3, 3, 1],[2, 0, -1, 2, 3],[3, -1, 0, 5, 1],[3, 2, 5, 0, 2],[1, 3, 1, 2, 6]])\n",
    "A1,A2"
   ]
  },
  {
   "cell_type": "code",
   "execution_count": 35,
   "metadata": {},
   "outputs": [
    {
     "ename": "IndexError",
     "evalue": "index 5 is out of bounds for axis 1 with size 5",
     "output_type": "error",
     "traceback": [
      "\u001b[0;31m---------------------------------------------------------------------------\u001b[0m",
      "\u001b[0;31mIndexError\u001b[0m                                Traceback (most recent call last)",
      "\u001b[0;32m<ipython-input-35-d1af702889f4>\u001b[0m in \u001b[0;36m<module>\u001b[0;34m()\u001b[0m\n\u001b[1;32m      4\u001b[0m \u001b[0mv\u001b[0m\u001b[0;34m[\u001b[0m\u001b[0;34m:\u001b[0m\u001b[0;34m,\u001b[0m\u001b[0;36m3\u001b[0m\u001b[0;34m]\u001b[0m\u001b[0;34m\u001b[0m\u001b[0m\n\u001b[1;32m      5\u001b[0m \u001b[0mv\u001b[0m\u001b[0;34m[\u001b[0m\u001b[0;34m:\u001b[0m\u001b[0;34m,\u001b[0m\u001b[0;36m4\u001b[0m\u001b[0;34m]\u001b[0m\u001b[0;34m\u001b[0m\u001b[0m\n\u001b[0;32m----> 6\u001b[0;31m \u001b[0mv\u001b[0m\u001b[0;34m[\u001b[0m\u001b[0;34m:\u001b[0m\u001b[0;34m,\u001b[0m\u001b[0;36m5\u001b[0m\u001b[0;34m]\u001b[0m\u001b[0;34m\u001b[0m\u001b[0m\n\u001b[0m",
      "\u001b[0;31mIndexError\u001b[0m: index 5 is out of bounds for axis 1 with size 5"
     ]
    }
   ],
   "source": [
    "w,v=LA.eig(A1)\n",
    "v[:,1]\n",
    "v[:,2]\n",
    "v[:,3]\n",
    "v[:,4]\n",
    "v[:,5]"
   ]
  },
  {
   "cell_type": "code",
   "execution_count": 36,
   "metadata": {},
   "outputs": [
    {
     "data": {
      "text/plain": [
       "array([ 0.03611597+0.37390458j,  0.15404221+0.36655165j,\n",
       "        0.07387832+0.44905574j, -0.01656456+0.46501613j,\n",
       "       -0.52647738+0.j        ])"
      ]
     },
     "execution_count": 36,
     "metadata": {},
     "output_type": "execute_result"
    }
   ],
   "source": [
    "v[:,0]"
   ]
  },
  {
   "cell_type": "code",
   "execution_count": 37,
   "metadata": {},
   "outputs": [
    {
     "data": {
      "text/plain": [
       "array([0.3731337 , 0.31438582, 0.37399567, 0.47727298, 0.62790966])"
      ]
     },
     "execution_count": 37,
     "metadata": {},
     "output_type": "execute_result"
    }
   ],
   "source": [
    "w2,e=LA.eig(A2)\n",
    "e[:,0]"
   ]
  },
  {
   "cell_type": "code",
   "execution_count": 43,
   "metadata": {},
   "outputs": [
    {
     "data": {
      "text/plain": [
       "array([-0.15859057,  0.39411431,  0.66985833, -0.60761426, -0.0402203 ])"
      ]
     },
     "execution_count": 43,
     "metadata": {},
     "output_type": "execute_result"
    }
   ],
   "source": [
    "e[:,4]"
   ]
  },
  {
   "cell_type": "code",
   "execution_count": 11,
   "metadata": {},
   "outputs": [
    {
     "data": {
      "text/plain": [
       "array([[ 3, -1, -1,  0, -1,  0],\n",
       "       [-1,  3,  0, -1,  0, -1],\n",
       "       [-1,  0,  2,  0, -1,  0],\n",
       "       [ 0, -1,  0,  2,  0, -1],\n",
       "       [-1,  0, -1,  0,  2,  0],\n",
       "       [ 0, -1,  0, -1,  0,  2]])"
      ]
     },
     "execution_count": 11,
     "metadata": {},
     "output_type": "execute_result"
    }
   ],
   "source": [
    "L=np.array([[3,-1,-1,0,-1,0],[-1,3,0,-1,0,-1],[-1,0,2,0,-1,0],[0,-1,0,2,0,-1],[-1,0,-1,0,2,0],[0,-1,0,-1,0,2]])\n",
    "L"
   ]
  },
  {
   "cell_type": "code",
   "execution_count": 13,
   "metadata": {},
   "outputs": [
    {
     "data": {
      "text/plain": [
       "array([ 4.56155281e+00, -3.18975359e-16,  4.38447187e-01,  3.00000000e+00,\n",
       "        3.00000000e+00,  3.00000000e+00])"
      ]
     },
     "execution_count": 13,
     "metadata": {},
     "output_type": "execute_result"
    }
   ],
   "source": [
    "wl,_=LA.eig(L)\n",
    "wl"
   ]
  },
  {
   "cell_type": "code",
   "execution_count": 17,
   "metadata": {},
   "outputs": [
    {
     "data": {
      "text/plain": [
       "array([[ 2, -1, -1,  0],\n",
       "       [-1,  1,  0,  0],\n",
       "       [-1,  0,  2, -1],\n",
       "       [ 0,  0, -1,  1]])"
      ]
     },
     "execution_count": 17,
     "metadata": {},
     "output_type": "execute_result"
    }
   ],
   "source": [
    "L1=np.array([[2,-1,-1,0],[-1,1,-0,0],[-1,0,2,-1],[0,0,-1,1]])\n",
    "L1"
   ]
  },
  {
   "cell_type": "code",
   "execution_count": 18,
   "metadata": {},
   "outputs": [
    {
     "data": {
      "text/plain": [
       "array([[ 3,  0, -1, -1, -1],\n",
       "       [ 0,  2,  0, -1, -1],\n",
       "       [-1,  0,  2, -1,  0],\n",
       "       [-1, -1, -1,  3,  0],\n",
       "       [-1, -1,  0,  0,  2]])"
      ]
     },
     "execution_count": 18,
     "metadata": {},
     "output_type": "execute_result"
    }
   ],
   "source": [
    "L3=np.array([[3,0,-1,-1,-1],[0,2,0,-1,-1],[-1,0,2,-1,0],[-1,-1,-1,3,0],[-1,-1,0,0,2]])\n",
    "L3"
   ]
  },
  {
   "cell_type": "code",
   "execution_count": 20,
   "metadata": {},
   "outputs": [
    {
     "data": {
      "text/plain": [
       "array([[ 2,  0, -1, -1,  0],\n",
       "       [ 0,  1,  0,  0, -1],\n",
       "       [-1,  0,  2, -1,  0],\n",
       "       [-1,  0, -1,  2,  0],\n",
       "       [ 0, -1,  0,  0,  1]])"
      ]
     },
     "execution_count": 20,
     "metadata": {},
     "output_type": "execute_result"
    }
   ],
   "source": [
    "L5=np.array([[2,0,-1,-1,0],[0,1,0,0,-1],[-1,0,2,-1,0],[-1,0,-1,2,0],[0,-1,0,0,1]])\n",
    "L5"
   ]
  },
  {
   "cell_type": "code",
   "execution_count": 23,
   "metadata": {},
   "outputs": [
    {
     "data": {
      "text/plain": [
       "array([3.41421356e+00, 2.00000000e+00, 3.47490713e-17, 5.85786438e-01])"
      ]
     },
     "execution_count": 23,
     "metadata": {},
     "output_type": "execute_result"
    }
   ],
   "source": [
    "a1,_=LA.eig(L1)\n",
    "a1"
   ]
  },
  {
   "cell_type": "code",
   "execution_count": 24,
   "metadata": {},
   "outputs": [
    {
     "data": {
      "text/plain": [
       "array([-1.33226763e-15,  4.61803399e+00,  3.61803399e+00,  2.38196601e+00,\n",
       "        1.38196601e+00])"
      ]
     },
     "execution_count": 24,
     "metadata": {},
     "output_type": "execute_result"
    }
   ],
   "source": [
    "a3,_=LA.eig(L3)\n",
    "a3"
   ]
  },
  {
   "cell_type": "code",
   "execution_count": 25,
   "metadata": {},
   "outputs": [
    {
     "data": {
      "text/plain": [
       "array([ 3.00000000e+00, -2.22044605e-16,  1.11022302e-16,  2.00000000e+00,\n",
       "        3.00000000e+00])"
      ]
     },
     "execution_count": 25,
     "metadata": {},
     "output_type": "execute_result"
    }
   ],
   "source": [
    "a5,_=LA.eig(L5)\n",
    "a5"
   ]
  },
  {
   "cell_type": "code",
   "execution_count": null,
   "metadata": {},
   "outputs": [],
   "source": []
  }
 ],
 "metadata": {
  "kernelspec": {
   "display_name": "Python 3",
   "language": "python",
   "name": "python3"
  },
  "language_info": {
   "codemirror_mode": {
    "name": "ipython",
    "version": 3
   },
   "file_extension": ".py",
   "mimetype": "text/x-python",
   "name": "python",
   "nbconvert_exporter": "python",
   "pygments_lexer": "ipython3",
   "version": "3.6.5"
  }
 },
 "nbformat": 4,
 "nbformat_minor": 2
}
