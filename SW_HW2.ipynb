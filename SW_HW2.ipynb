{
 "cells": [
  {
   "cell_type": "markdown",
   "metadata": {},
   "source": [
    "# ECE-GY 9273 Python programs for Exercise series 2\n",
    "This ipython script contains python programs submitted in partial fullfilment of Exercise 2 \n",
    "Simply restart and run all and all numerical results in the submitted pdf will be reproduced\n",
    "For further information, please contact taoli@nyu.edu"
   ]
  },
  {
   "cell_type": "code",
   "execution_count": 1,
   "metadata": {},
   "outputs": [],
   "source": [
    "import numpy as np\n",
    "from numpy import linalg as LA\n",
    "import matplotlib.pyplot as plt"
   ]
  },
  {
   "cell_type": "markdown",
   "metadata": {},
   "source": [
    "## Exercise 1 \n",
    "write a function get_laplacian for computing laplacian matrices\n",
    "### question (a) defining functions"
   ]
  },
  {
   "cell_type": "code",
   "execution_count": 2,
   "metadata": {},
   "outputs": [],
   "source": [
    "#computing Laplacian matrix for a given graph\n",
    "#input: edges: list of edges; n_vertices: number of vertices; flag: true for directed and false for undirected\n",
    "#return: the corresponding Laplacian\n",
    "def get_laplacian(edges, n_vertices,flag):\n",
    "    #pre-allocation for adjacency matrix\n",
    "    Adja=np.zeros((n_vertices,n_vertices),dtype=int)\n",
    "    for e in edges:\n",
    "        Adja[e[1],e[0]]=1;\n",
    "    if flag==False : #undirected graph\n",
    "        #computing the transpose \n",
    "        Adja_trans=np.transpose(Adja)\n",
    "        Adja=Adja+Adja_trans  \n",
    "    #For both directed and undirected, sum of columns gives degrees\n",
    "    d=np.sum(Adja,axis=1)\n",
    "    D=np.diag(d)\n",
    "    #compute Laplacian\n",
    "    L=D-Adja\n",
    "    return L"
   ]
  },
  {
   "cell_type": "markdown",
   "metadata": {},
   "source": [
    "### question (b) testing the function"
   ]
  },
  {
   "cell_type": "code",
   "execution_count": 3,
   "metadata": {},
   "outputs": [
    {
     "data": {
      "text/plain": [
       "array([[ 1,  0, -1,  0,  0,  0,  0,  0,  0],\n",
       "       [ 0,  1, -1,  0,  0,  0,  0,  0,  0],\n",
       "       [-1, -1,  5, -1, -1,  0, -1,  0,  0],\n",
       "       [ 0,  0, -1,  1,  0,  0,  0,  0,  0],\n",
       "       [ 0,  0, -1,  0,  4, -1, -1, -1,  0],\n",
       "       [ 0,  0,  0,  0, -1,  2, -1,  0,  0],\n",
       "       [ 0,  0, -1,  0, -1, -1,  5, -1, -1],\n",
       "       [ 0,  0,  0,  0, -1,  0, -1,  2,  0],\n",
       "       [ 0,  0,  0,  0,  0,  0, -1,  0,  1]])"
      ]
     },
     "execution_count": 3,
     "metadata": {},
     "output_type": "execute_result"
    }
   ],
   "source": [
    "# the undirected graph in exercise 2\n",
    "E1=[[0,2],[1,2],[2,3],[2,4],[2,6],[4,5],[4,6],[4,7],[5,6],[6,7],[6,8]]\n",
    "n1=9\n",
    "L1=get_laplacian(E1,n1,False)\n",
    "L1"
   ]
  },
  {
   "cell_type": "code",
   "execution_count": 4,
   "metadata": {},
   "outputs": [
    {
     "data": {
      "text/plain": [
       "array([[ 1, -1,  0,  0,  0],\n",
       "       [ 0,  1,  0,  0, -1],\n",
       "       [ 0, -1,  2, -1,  0],\n",
       "       [ 0,  0,  0,  1, -1],\n",
       "       [ 0,  0, -1,  0,  1]])"
      ]
     },
     "execution_count": 4,
     "metadata": {},
     "output_type": "execute_result"
    }
   ],
   "source": [
    "# the directed graph in exercise 3\n",
    "#to be consistent with previous notations, we start with zero for labeling the vertices\n",
    "E2=[[1,0],[1,2],[2,4],[3,2],[4,1],[4,3]]\n",
    "n2=5\n",
    "get_laplacian(E2,n2,True)"
   ]
  },
  {
   "cell_type": "markdown",
   "metadata": {},
   "source": [
    "### question (c) computing eigevalues\n",
    "we first define a function \"edges_cycle\" for generating the edge set for a given cycle graph and then define \"eigvalue_cycle\" for computing eigenvalues."
   ]
  },
  {
   "cell_type": "code",
   "execution_count": 5,
   "metadata": {},
   "outputs": [],
   "source": [
    "#creating the set of edges of a given cycle graphs\n",
    "def edges_cycle(n_vertices):\n",
    "    #preallocation\n",
    "    edges=np.empty((n_vertices,2),dtype=int)\n",
    "    for i in range(n_vertices):\n",
    "        edges[i]=[i,i+1]\n",
    "    #the label ranges from 0 to n-1, so we have to do a modulo that maps n to 0\n",
    "    edges=np.fmod(edges,n_vertices)\n",
    "    return edges\n",
    "\n",
    "#computing two smallest and two largest eignvalues of a given cycle graph\n",
    "def eigvalue_cycle(n_vertices):\n",
    "    #constructing edges\n",
    "    edges = edges_cycle(n_vertices)\n",
    "    #computing laplacian\n",
    "    L = get_laplacian(edges,n_vertices,False)\n",
    "    #computing eigenvalues\n",
    "    eigv,_=LA.eig(L)\n",
    "    #sorting\n",
    "    sort_eigv=np.sort(eigv)\n",
    "    output_eig=np.array([sort_eigv[0],sort_eigv[1],sort_eigv[-2],sort_eigv[-1]])\n",
    "    return output_eig"
   ]
  },
  {
   "cell_type": "code",
   "execution_count": 6,
   "metadata": {},
   "outputs": [
    {
     "data": {
      "text/plain": [
       "array([-2.87949739e-17,  1.38196601e+00,  3.61803399e+00,  3.61803399e+00])"
      ]
     },
     "execution_count": 6,
     "metadata": {},
     "output_type": "execute_result"
    }
   ],
   "source": [
    "eigvalue_cycle(5)"
   ]
  },
  {
   "cell_type": "code",
   "execution_count": 7,
   "metadata": {},
   "outputs": [
    {
     "data": {
      "text/plain": [
       "array([-4.10528340e-16,  1.72909085e-01,  3.95629520e+00,  3.95629520e+00])"
      ]
     },
     "execution_count": 7,
     "metadata": {},
     "output_type": "execute_result"
    }
   ],
   "source": [
    "eigvalue_cycle(15)"
   ]
  },
  {
   "cell_type": "code",
   "execution_count": 8,
   "metadata": {},
   "outputs": [
    {
     "data": {
      "text/plain": [
       "array([4.99382786e-15, 9.96821748e-04, 3.99975078e+00, 3.99975078e+00])"
      ]
     },
     "execution_count": 8,
     "metadata": {},
     "output_type": "execute_result"
    }
   ],
   "source": [
    "eigvalue_cycle(199)"
   ]
  },
  {
   "cell_type": "markdown",
   "metadata": {},
   "source": [
    "## Exercise 2\n",
    "consensus algotirhm simulation using Euler forward difference "
   ]
  },
  {
   "cell_type": "markdown",
   "metadata": {},
   "source": [
    "## question (a)  writing a function \"simulate_consensus\" with predefined termination time"
   ]
  },
  {
   "cell_type": "code",
   "execution_count": 9,
   "metadata": {},
   "outputs": [],
   "source": [
    "#consensus algorithm using Euler's method\n",
    "#input: initial condition x0; time horizon: T(required to be multiple of dt), Laplacian: L\n",
    "#return: t: a time discretization of [0, T]; X: the evolution of states stored in a matrix\n",
    "def simulate_consensus(x0,T,L,dt=0.001):\n",
    "    #partition in time\n",
    "    N=int(T/dt)\n",
    "    t=np.linspace(0,T,N+1)\n",
    "    #preallocation for time-varying states\n",
    "    n=np.size(x0)#dimension\n",
    "    #pre-allocation for X data_storage\n",
    "    X=np.empty((n,N),dtype=float)\n",
    "    for i in range(1,N):\n",
    "        #Euler forward difference\n",
    "        x1=x0-dt*np.matmul(L,x0)\n",
    "        #keeping record\n",
    "        X[:,i]=x1\n",
    "        x0=x1\n",
    "    return (t,X)\n",
    "\n"
   ]
  },
  {
   "cell_type": "markdown",
   "metadata": {},
   "source": [
    "## question (b) writing a funcion without specifying the termination time\n",
    "In this question, we define a new function \"consensus_notime\" meaning that no termination time is specified in prior, where we shall use a while loop. Also, to properly terminate the simulation, we further define a function \"dist_neigh\" which is used to detect the distance between two adajacent nodes, once it is below the tolerance, i.e., 0.01, we can safely conclude that the algorithm converges. "
   ]
  },
  {
   "cell_type": "code",
   "execution_count": 10,
   "metadata": {},
   "outputs": [],
   "source": [
    "#consensus algorithm using Euler's method without specifying time horizon\n",
    "#input: initial condition x0; edge set: E; number of vertices: n; flag: flag: true for directed \n",
    "#and false for undirected tolerance: eta\n",
    "#return: T: termination time; t: a time discretization of [0, T]; X: the evolution of states stored in a matrix\n",
    "def consensus_notime(x0,E,n_vertices,flag,eta,dt=0.001):\n",
    "    #compute the laplacian\n",
    "    L=get_laplacian(E,n_vertices,flag)\n",
    "    n=np.size(x0)#dimension\n",
    "    #innitialization\n",
    "    X=x0#data storage\n",
    "    e=1#distance \n",
    "    T=0#termination time\n",
    "    t=np.array([0])# time discretization\n",
    "    #while loop until distance is below the tolerance \n",
    "    while e>eta:\n",
    "        x1=x0-dt*np.matmul(L,x0)\n",
    "        #compute the distance\n",
    "        e=dist_neigh(x1,E)\n",
    "        #append the new state \n",
    "        X=np.vstack((X,x1))\n",
    "        T=T+dt\n",
    "        #append the new time partition\n",
    "        t=np.hstack((t,[T]))\n",
    "        x0=x1\n",
    "    X=np.transpose(X)\n",
    "    return(T,t,X)  \n",
    "\n",
    "#computing the maximum distance between two adajacent nodes\n",
    "#input: state variable: x; set of edges: E\n",
    "def dist_neigh(x,E):\n",
    "    dist=0;\n",
    "    for e in E:\n",
    "        d=abs(x[e[0]]-x[e[1]])\n",
    "        dist=max(dist,d)\n",
    "    return dist"
   ]
  },
  {
   "cell_type": "code",
   "execution_count": 11,
   "metadata": {},
   "outputs": [
    {
     "data": {
      "text/plain": [
       "11.387999999999128"
      ]
     },
     "execution_count": 11,
     "metadata": {},
     "output_type": "execute_result"
    }
   ],
   "source": [
    "x0=np.array([10,20,12,5,30,12,15,16,25])\n",
    "T,t,X=consensus_notime(x0,E1,n1,False,0.01)\n",
    "T#  time"
   ]
  },
  {
   "cell_type": "code",
   "execution_count": 12,
   "metadata": {},
   "outputs": [
    {
     "data": {
      "text/plain": [
       "array([16.10117713, 16.10128979, 16.10656015, 16.1011208 , 16.11511557,\n",
       "       16.1175888 , 16.11656003, 16.1175888 , 16.12299894])"
      ]
     },
     "execution_count": 12,
     "metadata": {},
     "output_type": "execute_result"
    }
   ],
   "source": [
    "# the consensus\n",
    "X[:,-1]"
   ]
  },
  {
   "cell_type": "code",
   "execution_count": 13,
   "metadata": {},
   "outputs": [
    {
     "data": {
      "image/png": "[encoded data removed]",
      "text/plain": [
       "<Figure size 432x288 with 1 Axes>"
      ]
     },
     "metadata": {},
     "output_type": "display_data"
    }
   ],
   "source": [
    "prediction_2b=16.11*np.ones(np.size(t))\n",
    "plt.title('Consensus Stimulation for Exer2b')\n",
    "plt.xlabel('time(s)')\n",
    "plt.ylabel('states of agents')\n",
    "plt.plot(t,X.T)\n",
    "plt.plot(t,prediction_2b,'black')\n",
    "plt.savefig('consensus_ex2.pdf')"
   ]
  },
  {
   "cell_type": "markdown",
   "metadata": {},
   "source": [
    "## question (c) dicsonnected case"
   ]
  },
  {
   "cell_type": "code",
   "execution_count": 14,
   "metadata": {},
   "outputs": [],
   "source": [
    "# defining the graph\n",
    "E3=[[0,2],[1,2],[2,3],[4,5],[4,6],[4,7],[5,6],[6,7],[6,8]]\n",
    "n3=9\n",
    "L3=get_laplacian(E3,n3,False)"
   ]
  },
  {
   "cell_type": "code",
   "execution_count": 15,
   "metadata": {},
   "outputs": [
    {
     "data": {
      "text/plain": [
       "6.72300000000058"
      ]
     },
     "execution_count": 15,
     "metadata": {},
     "output_type": "execute_result"
    }
   ],
   "source": [
    "T_dc,t_dc,X_dc=consensus_notime(x0,E3,n3,False,0.01)\n",
    "T_dc\n"
   ]
  },
  {
   "cell_type": "code",
   "execution_count": 16,
   "metadata": {},
   "outputs": [
    {
     "data": {
      "image/png": "[encoded data removed]",
      "text/plain": [
       "<Figure size 432x288 with 1 Axes>"
      ]
     },
     "metadata": {},
     "output_type": "display_data"
    }
   ],
   "source": [
    "prediction_dc1=11.75*np.ones(np.size(t_dc))\n",
    "prediction_dc2=19.6*np.ones(np.size(t_dc))\n",
    "plt.title('Consensus Stimulation for Exer2c')\n",
    "plt.xlabel('time(s)')\n",
    "plt.ylabel('states of agents')\n",
    "plt.plot(t_dc,X_dc.T)\n",
    "plt.plot(t_dc,prediction_dc1,'black')\n",
    "plt.plot(t_dc,prediction_dc2,'black')\n",
    "plt.savefig('consensus_ex2_dc.pdf')"
   ]
  },
  {
   "cell_type": "markdown",
   "metadata": {},
   "source": [
    "## question (d) Complete graph \n",
    "we shall first define a function \"edges_complete\" for constructing edges and then we implement the predefined function."
   ]
  },
  {
   "cell_type": "code",
   "execution_count": 17,
   "metadata": {},
   "outputs": [],
   "source": [
    "from scipy.special import comb\n",
    "#constructing edges of a complete graph\n",
    "def edges_complete(n_vertices):\n",
    "    #the number of edges in total\n",
    "    n= int(comb(n_vertices,2))\n",
    "    #pre-allocation\n",
    "    edges=np.empty((n,2),dtype=int)\n",
    "    count=0\n",
    "    for i in range(n_vertices-1):\n",
    "        for j in range(i+1,n_vertices):\n",
    "            edges[count]=[i,j]\n",
    "            count=count+1\n",
    "    return edges"
   ]
  },
  {
   "cell_type": "code",
   "execution_count": 18,
   "metadata": {},
   "outputs": [
    {
     "data": {
      "text/plain": [
       "array([[0, 1],\n",
       "       [0, 2],\n",
       "       [0, 3],\n",
       "       [1, 2],\n",
       "       [1, 3],\n",
       "       [2, 3]])"
      ]
     },
     "execution_count": 18,
     "metadata": {},
     "output_type": "execute_result"
    }
   ],
   "source": [
    "#an example\n",
    "edges_complete(4)\n"
   ]
  },
  {
   "cell_type": "markdown",
   "metadata": {},
   "source": [
    "The following two cells try to explain why the convergence for complete graph is faster than that for the original graph, where the second smallest eigenvalues are computed."
   ]
  },
  {
   "cell_type": "code",
   "execution_count": 19,
   "metadata": {},
   "outputs": [
    {
     "data": {
      "text/plain": [
       "8.999999999999993"
      ]
     },
     "execution_count": 19,
     "metadata": {},
     "output_type": "execute_result"
    }
   ],
   "source": [
    "# computing the second smallest eignvalue of the Laplacian\n",
    "n1=9\n",
    "edges_c=edges_complete(n1)\n",
    "L_c=get_laplacian(edges_c,n1,False)\n",
    "eigv,_=LA.eig(L_c)\n",
    "sort_eigv=np.sort(eigv)\n",
    "sort_eigv[1]"
   ]
  },
  {
   "cell_type": "code",
   "execution_count": 20,
   "metadata": {},
   "outputs": [
    {
     "data": {
      "text/plain": [
       "0.5410970573643523"
      ]
     },
     "execution_count": 20,
     "metadata": {},
     "output_type": "execute_result"
    }
   ],
   "source": [
    "# computing the second smallest eignvalue of the original Laplacian\n",
    "eigv1,_=LA.eig(L1)\n",
    "sort_eigv1=np.sort(eigv1)\n",
    "sort_eigv1[1]"
   ]
  },
  {
   "cell_type": "code",
   "execution_count": 21,
   "metadata": {},
   "outputs": [],
   "source": [
    "# simulaion complete graph with 9 vertices\n",
    "\n",
    "Tc,tc,Xc=consensus_notime(x0,edges_c,n1,False,0.01,dt=0.001)"
   ]
  },
  {
   "cell_type": "code",
   "execution_count": 22,
   "metadata": {},
   "outputs": [
    {
     "data": {
      "text/plain": [
       "0.8660000000000007"
      ]
     },
     "execution_count": 22,
     "metadata": {},
     "output_type": "execute_result"
    }
   ],
   "source": [
    "#time \n",
    "Tc"
   ]
  },
  {
   "cell_type": "code",
   "execution_count": 23,
   "metadata": {},
   "outputs": [
    {
     "data": {
      "image/png": "[encoded data removed]",
      "text/plain": [
       "<Figure size 432x288 with 1 Axes>"
      ]
     },
     "metadata": {},
     "output_type": "display_data"
    }
   ],
   "source": [
    "plt.title('Consensus Stimulation for Exer2d')\n",
    "plt.xlabel('time(s)')\n",
    "plt.ylabel('states of agents')\n",
    "plt.plot(tc,Xc.T)\n",
    "plt.savefig('consensus_ex2_d.pdf')"
   ]
  },
  {
   "cell_type": "markdown",
   "metadata": {},
   "source": [
    "The following cell tries to explain the slow convergence in cycle graph case through an eigenvalue perspective "
   ]
  },
  {
   "cell_type": "code",
   "execution_count": 24,
   "metadata": {},
   "outputs": [
    {
     "data": {
      "text/plain": [
       "0.46791111376204364"
      ]
     },
     "execution_count": 24,
     "metadata": {},
     "output_type": "execute_result"
    }
   ],
   "source": [
    "edges_cy=edges_cycle(n1)\n",
    "L_cy=get_laplacian(edges_cy,n1,False)\n",
    "eigv_cy,_=LA.eig(L_cy)\n",
    "sort_eigv_cy=np.sort(eigv_cy)\n",
    "sort_eigv_cy[1]"
   ]
  },
  {
   "cell_type": "code",
   "execution_count": 25,
   "metadata": {},
   "outputs": [],
   "source": [
    "Tcy,tcy,Xcy=consensus_notime(x0,edges_cy,n1,False,0.01,dt=0.001)"
   ]
  },
  {
   "cell_type": "code",
   "execution_count": 26,
   "metadata": {},
   "outputs": [
    {
     "data": {
      "text/plain": [
       "10.659999999999531"
      ]
     },
     "execution_count": 26,
     "metadata": {},
     "output_type": "execute_result"
    }
   ],
   "source": [
    "#time\n",
    "Tcy"
   ]
  },
  {
   "cell_type": "code",
   "execution_count": 27,
   "metadata": {},
   "outputs": [
    {
     "data": {
      "image/png": "[encoded data removed]",
      "text/plain": [
       "<Figure size 432x288 with 1 Axes>"
      ]
     },
     "metadata": {},
     "output_type": "display_data"
    }
   ],
   "source": [
    "plt.title('Consensus Stimulation for Exer2e')\n",
    "plt.xlabel('time(s)')\n",
    "plt.ylabel('states of agents')\n",
    "plt.plot(tcy,Xcy.T)\n",
    "plt.savefig('consensus_ex2_e.pdf')"
   ]
  },
  {
   "cell_type": "markdown",
   "metadata": {},
   "source": [
    "# Exercise 3\n",
    "## question (f)"
   ]
  },
  {
   "cell_type": "code",
   "execution_count": 28,
   "metadata": {},
   "outputs": [],
   "source": [
    "x_dg=np.array([10,5,1,-5,-10])"
   ]
  },
  {
   "cell_type": "code",
   "execution_count": 29,
   "metadata": {},
   "outputs": [
    {
     "data": {
      "image/png": "[encoded data removed]",
      "text/plain": [
       "<Figure size 432x288 with 1 Axes>"
      ]
     },
     "metadata": {},
     "output_type": "display_data"
    }
   ],
   "source": [
    "#verifying question(c)\n",
    "T3c,t3c,X3c=consensus_notime(x_dg,E2,n2,True,0.01,dt=0.001)\n",
    "predict_c=-3.8*np.ones(np.size(t3c))\n",
    "plt.title('Consensus Stimulation for Exer3d')\n",
    "plt.xlabel('time(s)')\n",
    "plt.ylabel('states of agents')\n",
    "plt.plot(t3c,X3c.T)\n",
    "plt.plot(t3c,predict_c,'black')\n",
    "plt.savefig('consensus_ex3_c.pdf')"
   ]
  },
  {
   "cell_type": "code",
   "execution_count": 30,
   "metadata": {},
   "outputs": [
    {
     "data": {
      "text/plain": [
       "8.559000000000696"
      ]
     },
     "execution_count": 30,
     "metadata": {},
     "output_type": "execute_result"
    }
   ],
   "source": [
    "T3c"
   ]
  },
  {
   "cell_type": "code",
   "execution_count": 31,
   "metadata": {},
   "outputs": [
    {
     "data": {
      "text/plain": [
       "array([[ 1, -1,  0,  0,  0],\n",
       "       [ 0,  2, -1,  0, -1],\n",
       "       [ 0, -1,  2, -1,  0],\n",
       "       [ 0,  0,  0,  1, -1],\n",
       "       [-1,  0, -1,  0,  2]])"
      ]
     },
     "execution_count": 31,
     "metadata": {},
     "output_type": "execute_result"
    }
   ],
   "source": [
    "#adding [v_1,v_5], [v_3,v_2]\n",
    "E_d=[[1,0],[1,2],[2,4],[3,2],[4,1],[4,3],[0,4],[2,1]]\n",
    "Ld=get_laplacian(E_d,n2,True)\n",
    "Ld"
   ]
  },
  {
   "cell_type": "code",
   "execution_count": 32,
   "metadata": {},
   "outputs": [
    {
     "data": {
      "image/png": "[encoded data removed]",
      "text/plain": [
       "<Figure size 432x288 with 1 Axes>"
      ]
     },
     "metadata": {},
     "output_type": "display_data"
    }
   ],
   "source": [
    "#verifying question(d)\n",
    "T3d,t3d,X3d=consensus_notime(x_dg,E_d,n2,True,0.01,dt=0.001)\n",
    "predict_d=0.2*np.ones(np.size(t3d))\n",
    "plt.title('Consensus Stimulation for Exer3d')\n",
    "plt.xlabel('time(s)')\n",
    "plt.ylabel('states of agents')\n",
    "plt.plot(t3d,X3d.T)\n",
    "plt.plot(t3d,predict_d,'black')\n",
    "plt.savefig('consensus_ex3_d.pdf')"
   ]
  },
  {
   "cell_type": "code",
   "execution_count": 33,
   "metadata": {},
   "outputs": [
    {
     "data": {
      "text/plain": [
       "5.725000000000247"
      ]
     },
     "execution_count": 33,
     "metadata": {},
     "output_type": "execute_result"
    }
   ],
   "source": [
    "T3d"
   ]
  },
  {
   "cell_type": "code",
   "execution_count": 34,
   "metadata": {},
   "outputs": [
    {
     "data": {
      "text/plain": [
       "array([[ 1, -1,  0,  0,  0],\n",
       "       [ 0,  1,  0,  0, -1],\n",
       "       [ 0, -1,  2, -1,  0],\n",
       "       [ 0,  0,  0,  0,  0],\n",
       "       [ 0,  0, -1,  0,  1]])"
      ]
     },
     "execution_count": 34,
     "metadata": {},
     "output_type": "execute_result"
    }
   ],
   "source": [
    "#removing [v_5,v_4]\n",
    "E_e=[[1,0],[1,2],[2,4],[3,2],[4,1]]\n",
    "Le=get_laplacian(E_e,n2,True)\n",
    "Le"
   ]
  },
  {
   "cell_type": "code",
   "execution_count": 35,
   "metadata": {},
   "outputs": [
    {
     "data": {
      "image/png": "[encoded data removed]",
      "text/plain": [
       "<Figure size 432x288 with 1 Axes>"
      ]
     },
     "metadata": {},
     "output_type": "display_data"
    }
   ],
   "source": [
    "#verifying question(e)\n",
    "T3e,t3e,X3e=consensus_notime(x_dg,E_e,n2,True,0.01,dt=0.001)\n",
    "predict_e=-5*np.ones(np.size(t3e))\n",
    "plt.title('Consensus Stimulation for Exer3e')\n",
    "plt.xlabel('time(s)')\n",
    "plt.ylabel('states of agents')\n",
    "plt.plot(t3e,X3e.T)\n",
    "plt.plot(t3e,predict_e,'black')\n",
    "plt.savefig('consensus_ex3_e.pdf')"
   ]
  },
  {
   "cell_type": "code",
   "execution_count": 36,
   "metadata": {},
   "outputs": [
    {
     "data": {
      "text/plain": [
       "21.303000000003053"
      ]
     },
     "execution_count": 36,
     "metadata": {},
     "output_type": "execute_result"
    }
   ],
   "source": [
    "T3e"
   ]
  },
  {
   "cell_type": "code",
   "execution_count": null,
   "metadata": {},
   "outputs": [],
   "source": []
  }
 ],
 "metadata": {
  "kernelspec": {
   "display_name": "Python 3",
   "language": "python",
   "name": "python3"
  },
  "language_info": {
   "codemirror_mode": {
    "name": "ipython",
    "version": 3
   },
   "file_extension": ".py",
   "mimetype": "text/x-python",
   "name": "python",
   "nbconvert_exporter": "python",
   "pygments_lexer": "ipython3",
   "version": "3.6.5"
  }
 },
 "nbformat": 4,
 "nbformat_minor": 2
}
